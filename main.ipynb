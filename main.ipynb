{
 "cells": [
  {
   "cell_type": "markdown",
   "metadata": {},
   "source": [
    "# Scientific Computing Project :  Human activity detection - DTW and classification with preprocessing\n",
    "\n",
    "In this project, we will try to predict human activity (1-Downstairs, 2-Jogging, 3-Sitting, 4-Standing, 5-Upstairs or 6-Walking) using smartphone sensors. That is, by using the following methods, the smartphone can detect what we are doing right now.\n",
    "\n",
    "Using the accelerometer integrated in the smartphone, the 3-axis linear acceleration at a constant rate of 50Hz was measured. The experiments were recorded on video to label the data manually. \n",
    "\n",
    "<img src=\"files/HARDataset.JPG\" width=\"800\" height=\"600\">\n",
    "\n",
    "It is provided for each record in the dataset : \n",
    "- The triaxial acceleration of the accelerometer (total acceleration) and the estimated acceleration of the body. \n",
    "- Its activity label. \n",
    "- An identifier of the subject who performed the experiment.\n",
    "\n",
    "**Dataset and description :**\n",
    "https://archive.ics.uci.edu/ml/datasets/WISDM+Smartphone+et+Smartwatch+Activité+et+Biométrie+Dataset\n"
   ]
  },
  {
   "cell_type": "code",
   "execution_count": 8,
   "metadata": {
    "pycharm": {
     "is_executing": false,
     "name": "#%%\n"
    }
   },
   "outputs": [
    {
     "name": "stdout",
     "text": [
      "Requirement already satisfied: fastdtw in ./venv/lib/python3.7/site-packages (0.3.4)\r\n",
      "Requirement already satisfied: numpy in ./venv/lib/python3.7/site-packages (from fastdtw) (1.19.4)\r\n",
      "Requirement already satisfied: dtw-python in ./venv/lib/python3.7/site-packages (1.1.6)\r\n",
      "Requirement already satisfied: numpy>=1.12 in ./venv/lib/python3.7/site-packages (from dtw-python) (1.19.4)\r\n",
      "Requirement already satisfied: scipy>=1.1 in ./venv/lib/python3.7/site-packages (from dtw-python) (1.5.4)\r\n"
     ],
     "output_type": "stream"
    }
   ],
   "source": [
    "import datetime\n",
    "import time\n",
    "\n",
    "import pandas as pd\n",
    "import numpy as np\n",
    "import matplotlib.pyplot as plt\n",
    "import scipy.spatial\n",
    "from sklearn.model_selection import train_test_split\n",
    "from sklearn.metrics import confusion_matrix\n",
    "from sklearn.metrics import accuracy_score\n",
    "import seaborn as sns\n",
    "from sklearn.decomposition import PCA\n",
    "\n",
    "!pip install fastdtw\n",
    "from fastdtw import fastdtw\n",
    "\n",
    "!pip install dtw-python\n",
    "from dtw import *"
   ]
  },
  {
   "cell_type": "code",
   "execution_count": 9,
   "metadata": {
    "pycharm": {
     "name": "#%%\n",
     "is_executing": false
    }
   },
   "outputs": [],
   "source": [
    "# Dataset parameters\n",
    "COLUMN_NAMES = [\n",
    "    'user',\n",
    "    'activity',\n",
    "    'timestamp',\n",
    "    'x-axis',\n",
    "    'y-axis',\n",
    "    'z-axis'\n",
    "]\n",
    "\n",
    "LABELS = [\n",
    "    'Downstairs',\n",
    "    'Jogging',\n",
    "    'Sitting',\n",
    "    'Standing',\n",
    "    'Upstairs',\n",
    "    'Walking'\n",
    "]\n",
    "\n",
    "DATA_PATH = 'dataset/WISDM_ar_v1.1_raw.txt'\n",
    "\n",
    "# Parameter\n",
    "N_CLASSES = 6\n",
    "N_FEATURES = 3  # x-acceleration, y-acceleration, z-acceleration\n",
    "SEGMENT_SIZE = 30 #50\n",
    "TEST_SIZE = 10 #1000"
   ]
  },
  {
   "cell_type": "markdown",
   "metadata": {},
   "source": [
    "## 1. Loading of both learning and test data"
   ]
  },
  {
   "cell_type": "code",
   "execution_count": 10,
   "metadata": {
    "pycharm": {
     "name": "#%%\n",
     "is_executing": false
    }
   },
   "outputs": [
    {
     "name": "stdout",
     "text": [
      "(1098203, 6)\n",
      "(25622,) (10981,)\n"
     ],
     "output_type": "stream"
    }
   ],
   "source": [
    "# Download data\n",
    "df = pd.read_csv(DATA_PATH, header=None, names=COLUMN_NAMES)\n",
    "df['z-axis'].replace({';': ''}, regex=True, inplace=True)\n",
    "df = df.dropna()\n",
    "df = df.reset_index(drop=True)\n",
    "print(df.shape)\n",
    "\n",
    "def chunks(lst, n):\n",
    "    for i in range(0, len(lst), n):\n",
    "        yield lst[i:i + n]\n",
    "\n",
    "\n",
    "def create_data(features, labels, chunk_size):\n",
    "    new_features = []\n",
    "    new_labels = []\n",
    "    for i in range(len(features)):\n",
    "        x, y, z = features[i]\n",
    "        xs = list(chunks(x, chunk_size))\n",
    "        ys = list(chunks(y, chunk_size))\n",
    "        zs = list(chunks(z, chunk_size))\n",
    "        for j in range(len(xs)):\n",
    "            tmp = []\n",
    "            if len(xs[j]) != chunk_size:\n",
    "                continue\n",
    "            for k in range(len(xs[j])):\n",
    "                tmp.append(xs[j][k])\n",
    "                tmp.append(ys[j][k])\n",
    "                tmp.append(zs[j][k])\n",
    "            new_features.append(tmp)\n",
    "            new_labels.append(labels[i])\n",
    "    d = {'features': new_features, 'labels': new_labels}\n",
    "    data = pd.DataFrame(d, columns=['features', 'labels'])\n",
    "    #train_size -> % of the dataset used as data train\n",
    "    return train_test_split(data['features'], data['labels'], train_size=0.7)\n",
    "\n",
    "by_ua = df.groupby(['user', 'activity'])\n",
    "\n",
    "features = []\n",
    "labels = []\n",
    "\n",
    "for index, label in enumerate(LABELS):\n",
    "    data = df[df['activity'] == label]\n",
    "    x = list(data['x-axis'])\n",
    "    y = list(data['y-axis'])\n",
    "    z = list(data['z-axis'])\n",
    "    features.append((x, y, z))\n",
    "    labels.append(index)\n",
    "\n",
    "X_train, X_test, y_train, y_test = create_data(features, labels, SEGMENT_SIZE)\n",
    "print(X_train.shape, X_test.shape)\n"
   ]
  },
  {
   "cell_type": "markdown",
   "metadata": {},
   "source": [
    "# Part I: Implementation of the Dynamic Programming Algorithm \n",
    "\n",
    "1. Write a DTW python function that implements the calculation and display of the cost matrix defined in TD. \n",
    "\n",
    "2. In order to easily adapt the calculation of the costs according to the nature of the data (and thus the distances used), write a function for each distance (Euclidean, letters, sounds) which will appear as a parameter of the DTW function."
   ]
  },
  {
   "cell_type": "code",
   "execution_count": 11,
   "metadata": {
    "pycharm": {
     "name": "#%%\n",
     "is_executing": false
    }
   },
   "outputs": [],
   "source": [
    "def our_dtw(v, u, metric='euclidean'):\n",
    "    v, u = np.atleast_2d(v, u)\n",
    "    dist = scipy.spatial.distance.cdist(v.T, u.T, metric=metric)\n",
    "\n",
    "    n, m = dist.shape\n",
    "    cost = np.zeros((n, m))\n",
    "    cost[0, 0] = dist[0, 0]\n",
    "    for i in range(1, n):\n",
    "        cost[i, 0] = cost[i - 1, 0] + dist[i, 0]\n",
    "    for j in range(1, m):\n",
    "        cost[0, j] = cost[0, j - 1] + dist[0, j]\n",
    "    for i in range(1, n):\n",
    "        for j in range(1, m):\n",
    "            cost[i, j] = dist[i, j] + min(cost[i - 1, j], cost[i, j - 1], cost[i - 1, j - 1])\n",
    "\n",
    "    n -= 1\n",
    "    m -= 1\n",
    "    path = []\n",
    "\n",
    "    while (n, m) != (0, 0):\n",
    "        path.append((n, m))\n",
    "        n, m = min((n - 1, m), (n, m - 1), (n - 1, m - 1), key=lambda x: cost[x[0], x[1]])\n",
    "    path.append((0, 0))\n",
    "\n",
    "    return cost[-1, -1]/(n + m), path\n"
   ]
  },
  {
   "cell_type": "markdown",
   "metadata": {},
   "source": [
    "### Application to exercises \n",
    "\n",
    " Test your programs on the exercises seen in TD."
   ]
  },
  {
   "cell_type": "code",
   "execution_count": 12,
   "metadata": {
    "pycharm": {
     "name": "#%%\n",
     "is_executing": false
    }
   },
   "outputs": [
    {
     "name": "stdout",
     "text": [
      "(inf, [(9, 9), (8, 8), (7, 8), (6, 7), (5, 6), (4, 5), (3, 5), (2, 4), (1, 3), (1, 2), (1, 1), (0, 0)])\n",
      "(inf, [(3, 3), (2, 2), (2, 1), (1, 0), (0, 0)])\n"
     ],
     "output_type": "stream"
    },
    {
     "name": "stderr",
     "text": [
      "/Users/lordarian/Documents/University/Paul Sabatier/Fall20/Modeling and scientific calculation /ActionDetection/venv/lib/python3.7/site-packages/ipykernel_launcher.py:25: RuntimeWarning: divide by zero encountered in double_scalars\n"
     ],
     "output_type": "stream"
    }
   ],
   "source": [
    "matA = np.array([1, 3, 4, 9, 8, 2, 1, 5, 7, 3])\n",
    "matB = np.array([1, 6, 2, 3, 0, 9, 4, 3, 6, 3])\n",
    "print(our_dtw(matA, matB))\n",
    "print(our_dtw([[1, 9, 1, 1], [3, 8, 5, 2], [4, 2, 7, 3]],[[1, 3, 4, 4], [6, 0, 3, 0], [2, 9, 6, 1]], metric='cityblock'))\n"
   ]
  },
  {
   "cell_type": "markdown",
   "metadata": {},
   "source": [
    "# Part II: Physical Activity Recognition System with DTW\n",
    "\n",
    "\n",
    "\n",
    "For each test time profile,\n",
    "- Calculate for each class, the DTW score between the test time profile and the class time profiles \n",
    "- Determine the class to which you belong by minimum score on all classes"
   ]
  },
  {
   "cell_type": "code",
   "execution_count": 13,
   "metadata": {
    "pycharm": {
     "name": "#%%\n",
     "is_executing": false
    }
   },
   "outputs": [
    {
     "name": "stdout",
     "text": [
      "2020-12-22 16:20:35.091577\n",
      "0\n",
      "8.536965224000028\n",
      "1\n",
      "8.59002089500001\n",
      "2\n",
      "8.911148962000027\n",
      "3\n",
      "8.810954847999994\n",
      "4\n",
      "8.80524761099997\n",
      "5\n",
      "8.784439991\n",
      "6\n",
      "9.786928482999997\n",
      "7\n",
      "10.334582175000037\n",
      "8\n",
      "8.49215274300002\n",
      "9\n",
      "8.804982311999993\n",
      "89.86209499700004\n"
     ],
     "output_type": "stream"
    }
   ],
   "source": [
    "# Recognition system from the DTW\n",
    "def predict_with_dtw(X_train, X_test, y_train, N=0):\n",
    "    predicts = []\n",
    "    for i, A in enumerate(X_test):\n",
    "        print(i)\n",
    "        t = time.perf_counter()\n",
    "        closest = (np.inf, -1)\n",
    "        for j, B in enumerate(X_train):\n",
    "            # fastdtw\n",
    "            dis = fastdtw(A, B)[0]\n",
    "            # cython dtw\n",
    "            # dis = dtw(A,B).distance\n",
    "            # our dtw\n",
    "            # dis = our_dtw(A, B)[0]\n",
    "            if dis < closest[0]:\n",
    "                closest = (dis, list(y_train)[j])\n",
    "        predicts.append(closest[1])\n",
    "        print(time.perf_counter() - t)\n",
    "        if i == N - 1:\n",
    "            break\n",
    "    return predicts\n",
    "\n",
    "print(str(datetime.datetime.now()))\n",
    "dtw_start = time.perf_counter()\n",
    "predicts = predict_with_dtw(X_train, X_test, y_train, TEST_SIZE)\n",
    "dtw_time = time.perf_counter() - dtw_start\n",
    "print(dtw_time)"
   ]
  },
  {
   "cell_type": "markdown",
   "metadata": {},
   "source": [
    "## Evaluation of the results of the DTW\n",
    "\n",
    "From the partition of the test set obtained after the DTW, calculate the confusion matrix that identifies the number of well-ranked and misranked data."
   ]
  },
  {
   "cell_type": "code",
   "execution_count": 14,
   "metadata": {
    "pycharm": {
     "name": "#%%\n",
     "is_executing": false
    }
   },
   "outputs": [
    {
     "data": {
      "text/plain": "<Figure size 432x288 with 2 Axes>",
      "image/png": "[encoded data removed]"
     },
     "metadata": {
      "needs_background": "light"
     },
     "output_type": "display_data"
    }
   ],
   "source": [
    "# Evaluation of results by confusion matrices \n",
    "cm = confusion_matrix(list(y_test)[:TEST_SIZE], predicts)\n",
    "acs = accuracy_score(list(y_test)[:TEST_SIZE], predicts, normalize=True)\n",
    "sns.heatmap(data=cm, fmt='.0f', xticklabels=np.unique(LABELS), yticklabels=np.unique(LABELS), annot=True)\n",
    "\n",
    "title = '{}_{}_{}_{}_{}'.format('dtw', acs, SEGMENT_SIZE, TEST_SIZE, int(dtw_time))\n",
    "plt.suptitle(title)\n",
    "plt.savefig('results/{}_{}_{}_{}.png'.format('dtw', acs, SEGMENT_SIZE, TEST_SIZE, dtw_time), dpi=150, bbox_inches='tight')\n",
    "plt.show()"
   ]
  },
  {
   "cell_type": "markdown",
   "metadata": {},
   "source": [
    "# Part III: Comparison of dynamic programming with a classification method after data pre-processing\n",
    "\n",
    "In this part, we will compare the results of the DTW with those of a data classification method: the k-nearest neighbors.\n",
    "\n",
    "We will use the functions to compute PCA and kppv via the python library *scikit-learn*."
   ]
  },
  {
   "cell_type": "code",
   "execution_count": 15,
   "metadata": {
    "pycharm": {
     "name": "#%%\n",
     "is_executing": false
    }
   },
   "outputs": [],
   "source": [
    "from sklearn.neighbors import KNeighborsClassifier"
   ]
  },
  {
   "cell_type": "markdown",
   "metadata": {},
   "source": [
    "### Pre-processing by ACP\n",
    "\n",
    "To test another classification method, \n",
    "\n",
    "1. From the Data_App data of the learning database and using the *PCA* function of the *scikit-learn* library, calculate the 3 main axes of the PCA by\n",
    "extracting the 3 eigenvectors, noted $X_1$, $X_2$, $X_3$, associated with the 3 largest eigenvalues of the matrix of\n",
    "variance-covariance $\\Sigma_{App}$.These eigenvectors will constitute the new database.\n",
    "\n",
    "2. Project the data from the learning and test database into this new database by multiplying each\n",
    "vector by the base $P = [X_1X_2X_3]$.\n",
    "\n",
    "*Note:* You can also implement PCA in\n",
    "extracting the 3 eigenvectors, noted $X_1$, $X_2$, $X_3$, associated with the 3 largest eigenvalues of the matrix of\n",
    "variance-covariance $\\Sigma_{App}$ (by the functions *np.cov* and *np.linalg.eig*). These eigenvectors will be the new marker P. Then project the data from the training and test database into this new database by multiplying each vector by the database $P = [X_1X_2X_3]$.\n"
   ]
  },
  {
   "cell_type": "markdown",
   "metadata": {},
   "source": [
    "### Classification by k nearest neighbors\n",
    "\n",
    "In artificial intelligence, the k-nearest neighbor (k-nn) method is a learning method\n",
    "supervised. Within this framework, a learning database is available consisting of \"data-label\" pairs. To estimate the output associated with a new input x, the closest k neighbor method consists in taking\n",
    "(identically) the k learning samples whose input is closest to the new learning sample.\n",
    "input x, according to a distance to be defined. The associated algorithm and an example (figure 1) are given below.\n",
    "\n",
    "<img src=\"files/knn.jpg\" width=\"500\" height=\"400\"  >\n",
    "\n",
    "<img src=\"files/kppv.png\" width=\"300\" height=\"300\"  >\n",
    "\n",
    "**Example of classification by k-nn.**\n",
    "\n",
    " The test specimen (green circle) must be classified either in the first\n",
    "class of blue squares, or in the second class of red triangles. \n",
    "If k = 3 (full circle), it is assigned to the second class because there are 2 triangles and only 1 square inside the inner circle. \n",
    "If k = 5 (dotted circle), it is assigned to the first class (3 squares versus 2 triangles inside the outer circle).\n",
    "\n",
    "1. Using the *KNeighborsClassifier* function from the *sklearn.neighbors* library, perform a k-ppv classification based on the learning and test base you have predefined (take $k=1$).\n",
    "\n",
    "2. Evaluate the k-ppv method by calculating the confusion matrix and the recognition rate.\n",
    "\n",
    "3. Change the value of $k$ for k-ppv. Do you improve recognition scores?\n",
    "\n",
    "4. Compare your results with those of the DTW."
   ]
  },
  {
   "cell_type": "code",
   "execution_count": 16,
   "metadata": {
    "pycharm": {
     "name": "#%%\n",
     "is_executing": false
    }
   },
   "outputs": [
    {
     "data": {
      "text/plain": "<Figure size 432x288 with 2 Axes>",
      "image/png": "[encoded data removed]"
     },
     "metadata": {
      "needs_background": "light"
     },
     "output_type": "display_data"
    }
   ],
   "source": [
    "# Apply knn on principal components\n",
    "def predict_with_knn(X_train, X_test, y_train, N=0, k=5):\n",
    "    X_train = np.array(X_train.values.tolist(), dtype=np.float64)\n",
    "    X_test = np.array(X_test.values.tolist(), dtype=np.float64)\n",
    "    y_train = np.array(y_train.values.tolist(), dtype=np.float64)\n",
    "    n_components = 3\n",
    "    pca = PCA(n_components)\n",
    "    PCA_train = pca.fit_transform(X_train)\n",
    "    PCA_test = pca.transform(X_test[:N])\n",
    "\n",
    "    knn = KNeighborsClassifier(n_neighbors=k)\n",
    "    knn.fit(PCA_train, y_train)\n",
    "    return knn.predict(PCA_test)\n",
    "\n",
    "K = 10\n",
    "\n",
    "start = time.time()\n",
    "predicts = predict_with_knn(X_train, X_test, y_train, TEST_SIZE, K)\n",
    "knn_time = time.time() - start\n",
    "acs = accuracy_score(list(y_test)[:TEST_SIZE], predicts, normalize=True)\n",
    "sns.heatmap(data=cm, fmt='.0f', xticklabels=np.unique(LABELS), yticklabels=np.unique(LABELS), annot=True)\n",
    "title = '{}_{}_{}_{}_{}_{}'.format('kNN', K, acs, SEGMENT_SIZE, TEST_SIZE, int(knn_time))\n",
    "plt.suptitle(title)\n",
    "plt.savefig('results/{}_{}_{}_{}_{}_{}.png'.format('kNN', K, acs, SEGMENT_SIZE, TEST_SIZE, knn_time), dpi=150, bbox_inches='tight')\n",
    "plt.show()"
   ]
  }
 ],
 "metadata": {
  "kernelspec": {
   "display_name": "Python 3",
   "language": "python",
   "name": "python3"
  },
  "language_info": {
   "codemirror_mode": {
    "name": "ipython",
    "version": 3
   },
   "file_extension": ".py",
   "mimetype": "text/x-python",
   "name": "python",
   "nbconvert_exporter": "python",
   "pygments_lexer": "ipython3",
   "version": "3.7.2"
  },
  "pycharm": {
   "stem_cell": {
    "cell_type": "raw",
    "source": [],
    "metadata": {
     "collapsed": false
    }
   }
  }
 },
 "nbformat": 4,
 "nbformat_minor": 1
}